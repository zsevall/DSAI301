{
  "nbformat": 4,
  "nbformat_minor": 0,
  "metadata": {
    "colab": {
      "provenance": [],
      "authorship_tag": "ABX9TyNPUEAslavP9BzUHROHcvuN",
      "include_colab_link": true
    },
    "kernelspec": {
      "name": "python3",
      "display_name": "Python 3"
    },
    "language_info": {
      "name": "python"
    }
  },
  "cells": [
    {
      "cell_type": "markdown",
      "metadata": {
        "id": "view-in-github",
        "colab_type": "text"
      },
      "source": [
        "<a href=\"https://colab.research.google.com/github/zsevall/DSAI301/blob/main/Zeynep_SEVAL_2024660042_hw4.ipynb\" target=\"_parent\"><img src=\"https://colab.research.google.com/assets/colab-badge.svg\" alt=\"Open In Colab\"/></a>"
      ]
    },
    {
      "cell_type": "code",
      "execution_count": null,
      "metadata": {
        "id": "E_pmoCR0ARVp"
      },
      "outputs": [],
      "source": [
        "#1−a\n",
        "\n",
        "def time_after(time, minute):\n",
        "    \"\"\"\n",
        "    Add minutes to a given time\n",
        "    time: string and its format is \"HH:MM\"\n",
        "    minute: integer number of minutes to add to time\n",
        "    \"\"\"\n",
        "    # Split hours and minutes for a given string\n",
        "    hour = int(time.split(\":\")[0])\n",
        "    min = int(time.split(\":\")[1])\n",
        "\n",
        "    # Add minutes to given time\n",
        "    min = min + minute\n",
        "\n",
        "    # If minutes exceed 60, convert to hours\n",
        "    while min >= 60:\n",
        "        hour = hour + 1\n",
        "        min = min - 60\n",
        "\n",
        "    # If hours exceed 24, go back to 1\n",
        "    while hour >= 24:\n",
        "        hour = hour - 24\n",
        "\n",
        "    # Convert numbers to strings with zeros at the begining\n",
        "    \"\"\"\n",
        "    If the hour is 9, it shows as \"09:30\" instead of \"9.30\"\n",
        "    If the minute is 5, it shows as \"10:05\" instead of \"10.5\"\n",
        "    \"\"\"\n",
        "    if hour < 10:\n",
        "        hour_str = \"0\" + str(hour)\n",
        "    else:\n",
        "        hour_str = str(hour)\n",
        "\n",
        "    if min < 10:\n",
        "        min_str = \"0\" + str(min)\n",
        "    else:\n",
        "        min_str = str(min)\n",
        "\n",
        "    return hour_str + \":\" + min_str\n",
        "\n",
        "def time_before(time, minute):\n",
        "    \"\"\"\n",
        "    Subtract minutes from a given time\n",
        "    time: string and its format is \"HH:MM\"\n",
        "    minute: integer number of minutes to be substracted from time\n",
        "    \"\"\"\n",
        "    # Split hours and minutes same as before\n",
        "    hour = int(time.split(\":\")[0])\n",
        "    min = int(time.split(\":\")[1])\n",
        "\n",
        "    # Subtract minutes\n",
        "    min = min - minute\n",
        "\n",
        "    # If minutes become negative, borrow from hours\n",
        "    while min < 0:\n",
        "        hour = hour - 1\n",
        "        min = min + 60\n",
        "\n",
        "    # If hours become negative, go back to 1\n",
        "    while hour < 0:\n",
        "        hour = hour + 24\n",
        "\n",
        "    # Convert numbers to strings with zeros at the begining\n",
        "    if hour < 10:\n",
        "        hour_str = \"0\" + str(hour)\n",
        "    else:\n",
        "        hour_str = str(hour)\n",
        "\n",
        "    if min < 10:\n",
        "        min_str = \"0\" + str(min)\n",
        "    else:\n",
        "        min_str = str(min)\n",
        "\n",
        "    return hour_str + \":\" + min_str"
      ]
    },
    {
      "cell_type": "code",
      "source": [
        "#1−b\n",
        "\n",
        "def local_time_calculation(mer1, t1, mer2):\n",
        "    # get first meridian info\n",
        "    mer1_split = mer1.split()\n",
        "    value1 = int(mer1_split[0])\n",
        "    type1 = mer1_split[1]\n",
        "\n",
        "    # get second meridian info\n",
        "    mer2_split = mer2.split()\n",
        "    value2 = int(mer2_split[0])\n",
        "    type2 = mer2_split[1]\n",
        "\n",
        "    # make WM negative\n",
        "    if type1 == \"WM\":\n",
        "        value1 = -value1\n",
        "    if type2 == \"WM\":\n",
        "        value2 = -value2\n",
        "\n",
        "    # find how many meridians apart\n",
        "    diff = value2 - value1\n",
        "\n",
        "    # calculate minutes (4 per meridian)\n",
        "    mins = abs(diff) * 4\n",
        "\n",
        "    # if second meridian is east, add time\n",
        "    # if second meridian is west, subtract time\n",
        "    if diff > 0:\n",
        "        answer = time_after(t1, mins)\n",
        "    else:\n",
        "        answer = time_before(t1, mins)\n",
        "\n",
        "    return answer\n",
        "\n",
        "print(local_time_calculation(\"9 EM\", \"12:50\", \"12 WM\"))   # should be 11:26\n",
        "print(local_time_calculation(\"10 WM\", \"09:30\", \"30 WM\"))  # should be 08:10\n",
        "print(local_time_calculation(\"10 EM\", \"09:30\", \"10 WM\"))  # should be 08:10\n",
        "print(local_time_calculation(\"179 WM\", \"09:30\", \"1 EM\"))  # should be 21:30"
      ],
      "metadata": {
        "colab": {
          "base_uri": "https://localhost:8080/"
        },
        "id": "5vT5xOaSL3Hi",
        "outputId": "51302cbe-1b06-4b16-9fab-e341055f994f"
      },
      "execution_count": null,
      "outputs": [
        {
          "output_type": "stream",
          "name": "stdout",
          "text": [
            "11:26\n",
            "08:10\n",
            "08:10\n",
            "21:30\n"
          ]
        }
      ]
    },
    {
      "cell_type": "code",
      "source": [
        "#2 Marble GAME, lets play :)\n",
        "\n",
        "# Total nb of marbles in our bin\n",
        "marbles = 50\n",
        "\n",
        "# which player's turn (1 or 2)\n",
        "current_player = 1\n",
        "\n",
        "# game continues while there are marbles\n",
        "while marbles > 0:\n",
        "    print(f\"Player {current_player}'s turn. There are {marbles} marbles in the bag.\")\n",
        "    print(f\"Player {current_player}, how many marbles do you take?\")\n",
        "\n",
        "    # get and check player's move\n",
        "    move_valid = False\n",
        "    while not move_valid:\n",
        "        take = input()\n",
        "\n",
        "        # check if input is a number\n",
        "        try:\n",
        "            take = int(take)\n",
        "            # check if move follows rules\n",
        "            if take >= 1 and take <= 5 and take <= marbles:\n",
        "                marbles = marbles - take\n",
        "                move_valid = True\n",
        "            else:\n",
        "                print(\"Invalid move.\")\n",
        "                print(f\"There are {marbles} marbles in the bag.\")\n",
        "                print(f\"Player {current_player}, how many marbles do you take?\")\n",
        "        except:\n",
        "            print(\"Invalid move.\")\n",
        "            print(f\"There are {marbles} marbles in the bag.\")\n",
        "            print(f\"Player {current_player}, how many marbles do you take?\")\n",
        "\n",
        "    # check if game is over\n",
        "    if marbles == 0:\n",
        "        print(f\"WINNER: PLAYER {current_player}\")\n",
        "\n",
        "    # to alternate between Player 1 and Player 2 after each valid move.\n",
        "    if current_player == 1:\n",
        "        current_player = 2\n",
        "    else:\n",
        "        current_player = 1"
      ],
      "metadata": {
        "colab": {
          "base_uri": "https://localhost:8080/"
        },
        "id": "vnSoscYRNLm2",
        "outputId": "d8c5a742-ea21-43f3-ec09-90e0f0f37845"
      },
      "execution_count": null,
      "outputs": [
        {
          "output_type": "stream",
          "name": "stdout",
          "text": [
            "Player 1's turn. There are 50 marbles in the bag.\n",
            "Player 1, how many marbles do you take?\n",
            "1\n",
            "Player 2's turn. There are 49 marbles in the bag.\n",
            "Player 2, how many marbles do you take?\n",
            "1\n",
            "Player 1's turn. There are 48 marbles in the bag.\n",
            "Player 1, how many marbles do you take?\n",
            "2\n",
            "Player 2's turn. There are 46 marbles in the bag.\n",
            "Player 2, how many marbles do you take?\n",
            "2\n",
            "Player 1's turn. There are 44 marbles in the bag.\n",
            "Player 1, how many marbles do you take?\n",
            "3\n",
            "Player 2's turn. There are 41 marbles in the bag.\n",
            "Player 2, how many marbles do you take?\n",
            "3\n",
            "Player 1's turn. There are 38 marbles in the bag.\n",
            "Player 1, how many marbles do you take?\n",
            "4\n",
            "Player 2's turn. There are 34 marbles in the bag.\n",
            "Player 2, how many marbles do you take?\n",
            "4\n",
            "Player 1's turn. There are 30 marbles in the bag.\n",
            "Player 1, how many marbles do you take?\n",
            "5\n",
            "Player 2's turn. There are 25 marbles in the bag.\n",
            "Player 2, how many marbles do you take?\n",
            "5\n",
            "Player 1's turn. There are 20 marbles in the bag.\n",
            "Player 1, how many marbles do you take?\n",
            "6\n",
            "Invalid move.\n",
            "There are 20 marbles in the bag.\n",
            "Player 1, how many marbles do you take?\n",
            "5\n",
            "Player 2's turn. There are 15 marbles in the bag.\n",
            "Player 2, how many marbles do you take?\n",
            "5\n",
            "Player 1's turn. There are 10 marbles in the bag.\n",
            "Player 1, how many marbles do you take?\n",
            "5\n",
            "Player 2's turn. There are 5 marbles in the bag.\n",
            "Player 2, how many marbles do you take?\n",
            "5\n",
            "WINNER: PLAYER 2\n"
          ]
        }
      ]
    },
    {
      "cell_type": "code",
      "source": [
        "def hash_function(string):\n",
        "    sum = 0\n",
        "    for char in string:\n",
        "        sum = sum + ord(char)\n",
        "    return sum\n",
        "\n",
        "def sortList(mylist):\n",
        "    # If no ordering is necessary, it should return None\n",
        "    did_swap = False  # Track if we do any swaps\n",
        "\n",
        "    # Sorting\n",
        "    n = len(mylist)\n",
        "    for i in range(n):\n",
        "        for j in range(0, n-i-1):\n",
        "            if hash_function(mylist[j]) < hash_function(mylist[j+1]):\n",
        "                mylist[j], mylist[j+1] = mylist[j+1], mylist[j]\n",
        "                did_swap = True  # Mark that we did a swap\n",
        "\n",
        " # Print sorted list if swaps were done, otherwise print original list\n",
        "    if did_swap:\n",
        "        print(mylist)\n",
        "    else:\n",
        "        print(None)\n",
        "\n",
        "\n",
        "mylist1 = [\"python\", \"Data science\", \"mystring\", \"a\"]\n",
        "sortList(mylist1)\n",
        "\n",
        "mylist2 =[\"Data science\", \"mystring\", \"python\", \"a\"]\n",
        "sortList(mylist2)\n"
      ],
      "metadata": {
        "id": "NxmhwpoaOctr",
        "colab": {
          "base_uri": "https://localhost:8080/"
        },
        "outputId": "2c0eafe5-aa0a-403f-a19a-c1ab71e0bf1b"
      },
      "execution_count": null,
      "outputs": [
        {
          "output_type": "stream",
          "name": "stdout",
          "text": [
            "['Data science', 'mystring', 'python', 'a']\n",
            "None\n"
          ]
        }
      ]
    },
    {
      "cell_type": "code",
      "source": [],
      "metadata": {
        "id": "mlsXUWxWQwlQ"
      },
      "execution_count": null,
      "outputs": []
    }
  ]
}