{
  "nbformat": 4,
  "nbformat_minor": 0,
  "metadata": {
    "colab": {
      "provenance": [],
      "authorship_tag": "ABX9TyP7rme++Yi1CTr43sC3ABKF",
      "include_colab_link": true
    },
    "kernelspec": {
      "name": "python3",
      "display_name": "Python 3"
    },
    "language_info": {
      "name": "python"
    }
  },
  "cells": [
    {
      "cell_type": "markdown",
      "metadata": {
        "id": "view-in-github",
        "colab_type": "text"
      },
      "source": [
        "<a href=\"https://colab.research.google.com/github/zsevall/DSAI301/blob/main/DSAI301_codes.ipynb\" target=\"_parent\"><img src=\"https://colab.research.google.com/assets/colab-badge.svg\" alt=\"Open In Colab\"/></a>"
      ]
    },
    {
      "cell_type": "markdown",
      "source": [
        "Functions known\n",
        "\n",
        "**1) find** >>> sentence.find(word))\n",
        "\n",
        "**2) index** >>  mylist.index(\"myelement\")\n",
        "The format is list.index(element, start, end):\n",
        "element is what you're looking for. start (optional) is where to start searching\n",
        "end (optional) is where to stop searching. This is different from find() in two main ways:\n",
        "*   index() raises an error if not found, while find() returns -1\n",
        "*   index() works on lists, while find() works on strings\n",
        "\n",
        "**3) append** >> mylist.append(\"newelement\")\n",
        "\n",
        "Key points about append():\n",
        "\n",
        "Always adds to the end of the list / Adds exactly one element / Modifies the original list / Can append any type of object / Returns None\n",
        "\n",
        "**4) len()**\n",
        "\n",
        "**5) pop ()** >> list.pop removes the last elements in list and returns that value\n",
        "\n",
        "**6) split()** >> <string>.split()"
      ],
      "metadata": {
        "id": "JpHy1u6bfCeJ"
      }
    },
    {
      "cell_type": "code",
      "source": [
        "text = \"Hello World, Hello Python\"\n",
        "\n",
        "# Basic find - returns first occurrence\n",
        "print(text.find(\"Hello\"))  # Returns 0\n",
        "\n",
        "# Find with start position\n",
        "print(text.find(\"Hello\", 5))  # Returns 13 (second \"Hello\")\n",
        "\n",
        "# When substring isn't found\n",
        "print(text.find(\"Java\", 0))  # Returns -1\n",
        "\n",
        "# You can also add an optional end position\n",
        "print(text.find(\"Hello\", 5, 12))  # Returns -1 (not found in this range)"
      ],
      "metadata": {
        "colab": {
          "base_uri": "https://localhost:8080/"
        },
        "id": "AyEBNQJOfQZ2",
        "outputId": "4ca522c9-5909-4b6d-97f6-eabbfd04de73"
      },
      "execution_count": null,
      "outputs": [
        {
          "output_type": "stream",
          "name": "stdout",
          "text": [
            "0\n",
            "13\n",
            "-1\n",
            "-1\n"
          ]
        }
      ]
    },
    {
      "cell_type": "code",
      "source": [
        "\"haystackstack\".find(\"st\")"
      ],
      "metadata": {
        "colab": {
          "base_uri": "https://localhost:8080/"
        },
        "id": "1Mjbx3Qih0es",
        "outputId": "4495584e-fbd5-4361-b501-9121213e7ade"
      },
      "execution_count": null,
      "outputs": [
        {
          "output_type": "execute_result",
          "data": {
            "text/plain": [
              "3"
            ]
          },
          "metadata": {},
          "execution_count": 52
        }
      ]
    },
    {
      "cell_type": "code",
      "source": [
        "\"haystackstack\".find(\"st\",5)"
      ],
      "metadata": {
        "colab": {
          "base_uri": "https://localhost:8080/"
        },
        "id": "aWPjLjVTffri",
        "outputId": "f50a2825-a596-4c6b-b060-e3b88405af71"
      },
      "execution_count": null,
      "outputs": [
        {
          "output_type": "execute_result",
          "data": {
            "text/plain": [
              "8"
            ]
          },
          "metadata": {},
          "execution_count": 53
        }
      ]
    },
    {
      "cell_type": "code",
      "source": [
        "\"haystackstack\".find(\"st\",4)"
      ],
      "metadata": {
        "colab": {
          "base_uri": "https://localhost:8080/"
        },
        "id": "IdhzuCJShNdr",
        "outputId": "c47f9705-9757-4fea-827e-12319d07d402"
      },
      "execution_count": null,
      "outputs": [
        {
          "output_type": "execute_result",
          "data": {
            "text/plain": [
              "8"
            ]
          },
          "metadata": {},
          "execution_count": 54
        }
      ]
    },
    {
      "cell_type": "code",
      "source": [
        "firstword=\"haystackstack\".find(\"st\")\n",
        "secondword=\"haystackstack\".find(\"st\",firstword+1)\n",
        "print(secondword)"
      ],
      "metadata": {
        "colab": {
          "base_uri": "https://localhost:8080/"
        },
        "id": "4pNjHZWxhceR",
        "outputId": "d6f11cf3-5277-41f5-f1dd-c14a5eb135f5"
      },
      "execution_count": null,
      "outputs": [
        {
          "output_type": "stream",
          "name": "stdout",
          "text": [
            "8\n"
          ]
        }
      ]
    },
    {
      "cell_type": "code",
      "source": [
        "fruits = [\"apple\", \"banana\", \"orange\", \"banana\", \"kiwi\"]\n",
        "\n",
        "# Basic usage - returns first occurrence\n",
        "print(fruits.index(\"banana\"))  # Returns 1\n",
        "\n",
        "# You can also specify a start position\n",
        "print(fruits.index(\"banana\", 2))  # Returns 3 (finds second \"banana\")\n",
        "\n",
        "# You can specify both start and end positions\n",
        "print(fruits.index(\"kiwi\", 0, 5))  # Returns 4\n",
        "\n",
        "# If element doesn't exist, it raises ValueError\n",
        "try:\n",
        "    print(fruits.index(\"mango\"))\n",
        "except ValueError:\n",
        "    print(\"Mango not found in list\")\n",
        "\n",
        "# Common pattern to safely check if element exists\n",
        "element = \"mango\"\n",
        "if element in fruits:\n",
        "    position = fruits.index(element)\n",
        "    print(f\"Found at position {position}\")\n",
        "else:\n",
        "    print(\"Element not found\")"
      ],
      "metadata": {
        "colab": {
          "base_uri": "https://localhost:8080/"
        },
        "id": "CmHQeB11mQNH",
        "outputId": "8a0eef54-313c-4181-da1c-2159393a519c"
      },
      "execution_count": null,
      "outputs": [
        {
          "output_type": "stream",
          "name": "stdout",
          "text": [
            "1\n",
            "3\n",
            "4\n",
            "Mango not found in list\n",
            "Element not found\n"
          ]
        }
      ]
    },
    {
      "cell_type": "code",
      "source": [
        "# With strings - counts characters\n",
        "text = \"Hello World\"\n",
        "print(len(text))  # Returns 11 (spaces count too!)\n",
        "\n",
        "name = \"John\"\n",
        "print(len(name))  # Returns 4\n",
        "\n",
        "empty_string = \"\"\n",
        "print(len(empty_string))  # Returns 0\n",
        "\n",
        "# With lists - counts elements\n",
        "numbers = [1, 2, 3, 4, 5]\n",
        "print(len(numbers))  # Returns 5\n",
        "\n",
        "mixed_list = [1, \"hello\", True, None]\n",
        "print(len(mixed_list))  # Returns 4\n",
        "\n",
        "# With other sequences\n",
        "tuple_example = (1, 2, 3)\n",
        "print(len(tuple_example))  # Returns 3\n",
        "\n",
        "dict_example = {\"name\": \"John\", \"age\": 30}\n",
        "print(len(dict_example))  # Returns 2 (counts number of key-value pairs)\n"
      ],
      "metadata": {
        "colab": {
          "base_uri": "https://localhost:8080/"
        },
        "id": "ITxOLHrVnoes",
        "outputId": "48e5eede-4984-4022-960a-768641cef847"
      },
      "execution_count": null,
      "outputs": [
        {
          "output_type": "stream",
          "name": "stdout",
          "text": [
            "11\n",
            "4\n",
            "0\n",
            "5\n",
            "4\n",
            "3\n",
            "2\n"
          ]
        }
      ]
    },
    {
      "cell_type": "code",
      "execution_count": null,
      "metadata": {
        "colab": {
          "base_uri": "https://localhost:8080/"
        },
        "id": "KE3hkTBtAg9M",
        "outputId": "8a9809f0-88b6-4108-d783-e6a95fd9b888"
      },
      "outputs": [
        {
          "output_type": "stream",
          "name": "stdout",
          "text": [
            "10\n",
            "8\n",
            "6\n",
            "4\n",
            "2\n"
          ]
        }
      ],
      "source": [
        "def countdown2 (m,n):\n",
        "  while m>=n:\n",
        "    print (m)\n",
        "    m=m-2\n",
        "countdown2 (10,2)"
      ]
    },
    {
      "cell_type": "markdown",
      "source": [
        "# daysbetweendays"
      ],
      "metadata": {
        "id": "BICfqYwpZ_4Z"
      }
    },
    {
      "cell_type": "code",
      "source": [
        "def leapYear(myYear):\n",
        "  if myYear%400==0:\n",
        "    return 29\n",
        "  if myYear%100==0:\n",
        "    return 28\n",
        "  if myYear%4==0:\n",
        "    return 29\n",
        "  else:\n",
        "    return 28\n",
        "\n",
        "def daysInMonth(month,year): #we replaced 28 by leapYear function\n",
        "  daysInMonthList=[31,leapYear(year),31,30,31,30,31,31,30,31,30,31]\n",
        "  return daysInMonthList[month-1]\n",
        "\n",
        "def nextDay(day1,month1,year1):  #every month is 30, instead of daysInMonth, we initially said day=30\n",
        "  if day1==daysInMonth(month1,year1) and month1==12:\n",
        "    return 1,1,year1+1\n",
        "  elif day1==daysInMonth(month1,year1):\n",
        "    return 1,month1+1, year1\n",
        "  else:\n",
        "    return day1+1,month1,year1\n",
        "print (nextDay(30,12,2012))\n",
        "\n",
        "def daysBetweenDates(day1,month1,year1,day2,month2,year2):\n",
        "  days=0 #counter\n",
        "  while not(day1==day2 and month1==month2 and year1==year2):\n",
        "    day1,month1,year1=nextDay(day1,month1,year1)\n",
        "    days=days+1\n",
        "\n",
        "  return days\n",
        "print(daysBetweenDates(7,11,2000,7,11,2024))\n",
        "print(daysBetweenDates(12,6,1985,12,11,2024))"
      ],
      "metadata": {
        "colab": {
          "base_uri": "https://localhost:8080/"
        },
        "id": "4Y0Ph4KPfsbm",
        "outputId": "c7aa0632-9593-44b6-e61d-f9ee28c89269"
      },
      "execution_count": null,
      "outputs": [
        {
          "output_type": "stream",
          "name": "stdout",
          "text": [
            "(31, 12, 2012)\n",
            "8766\n",
            "14398\n"
          ]
        }
      ]
    },
    {
      "cell_type": "code",
      "source": [
        "def leapYear(myYear):\n",
        "  if myYear%400==0:\n",
        "    return 29\n",
        "  if myYear%100==0:\n",
        "    return 28\n",
        "  if myYear%4==0:\n",
        "    return 29\n",
        "  else:\n",
        "    return 28\n",
        "\n",
        "def monthToday(month,year):\n",
        "  daysInMonthList=[31,leapYear(year),31,30,31,30,31,31,30,31,30,31]\n",
        "  day=0\n",
        "  while month!=0:\n",
        "    day=daysInMonthList[month-1]+day\n",
        "    month=month-1\n",
        "  return day\n",
        "\n",
        "def daysbtwdates(day1,month1,year1,day2,month2,year2):\n",
        "  date1=(year1-1)*365+(year1//4)+monthToday(month1-1,year1)+day1\n",
        "  date2=(year2-1)*365+(year2//4)+monthToday(month2-1,year2)+day2\n",
        "  return(date2-date1)\n",
        "\n",
        "print(daysbtwdates(7,11,2000,7,11,2024))\n",
        "print(daysbtwdates(7,7,1986,11,11,2024))"
      ],
      "metadata": {
        "id": "MD_gWBsbhF2f",
        "colab": {
          "base_uri": "https://localhost:8080/"
        },
        "outputId": "2789a12f-a8ba-407f-a67d-d83c497106eb"
      },
      "execution_count": null,
      "outputs": [
        {
          "output_type": "stream",
          "name": "stdout",
          "text": [
            "8766\n",
            "14008\n"
          ]
        }
      ]
    },
    {
      "cell_type": "code",
      "source": [
        "def isDateBefore(d1,m1,y1,d2,m2,y2):\n",
        "  if y1>y2:\n",
        "    return False\n",
        "  else:\n",
        "    if y1<y2:\n",
        "      return True\n",
        "    else:\n",
        "      if m1>m2:\n",
        "        return False\n",
        "      else:\n",
        "        if m1<m2:\n",
        "          return True\n",
        "        else:\n",
        "          if d1<d2:\n",
        "            return True\n",
        "          else:\n",
        "            return False\n"
      ],
      "metadata": {
        "id": "8dC39xOhGBNf"
      },
      "execution_count": null,
      "outputs": []
    },
    {
      "cell_type": "code",
      "source": [
        "def check_reverse(w1,w2):\n",
        "  if len(w1)!=len(w2):\n",
        "    return False\n",
        "  i=0\n",
        "  j=len(w2)\n",
        "\n",
        "  while j>0:\n",
        "    if w1[i]!=w2[j-1]:\n",
        "      return False\n",
        "    i=i+1\n",
        "    j=j-1\n",
        "    print(i,j)\n",
        "  return True\n",
        "\n",
        "check_reverse(\"ali\",\"ila\")"
      ],
      "metadata": {
        "colab": {
          "base_uri": "https://localhost:8080/"
        },
        "id": "Wp1HRaP_I1vS",
        "outputId": "b3d05b1a-f8b9-4486-ed2d-ae05f6ef5018"
      },
      "execution_count": null,
      "outputs": [
        {
          "output_type": "stream",
          "name": "stdout",
          "text": [
            "1 2\n",
            "2 1\n",
            "3 0\n"
          ]
        },
        {
          "output_type": "execute_result",
          "data": {
            "text/plain": [
              "True"
            ]
          },
          "metadata": {},
          "execution_count": 62
        }
      ]
    },
    {
      "cell_type": "code",
      "source": [
        "def print_all_elements(p):\n",
        "  for e in p:\n",
        "    print (e)\n",
        "my_list=[2,3,4]\n",
        "print_all_elements(my_list)\n"
      ],
      "metadata": {
        "colab": {
          "base_uri": "https://localhost:8080/"
        },
        "id": "L7aVa3WvMGzH",
        "outputId": "08936d64-e1c9-4775-ae85-611e71eb2a66"
      },
      "execution_count": null,
      "outputs": [
        {
          "output_type": "stream",
          "name": "stdout",
          "text": [
            "2\n",
            "3\n",
            "4\n"
          ]
        }
      ]
    },
    {
      "cell_type": "code",
      "source": [
        "def sum_list(myList):\n",
        "  sum=0\n",
        "  for element in myList:\n",
        "    sum=sum+element\n",
        "  return sum\n",
        "my_list=[2,3,4]\n",
        "print(sum_list(my_list))"
      ],
      "metadata": {
        "colab": {
          "base_uri": "https://localhost:8080/"
        },
        "id": "f-tMXcSdPyuu",
        "outputId": "8c341592-fc3b-4a64-9cdd-77a4fddd2de6"
      },
      "execution_count": null,
      "outputs": [
        {
          "output_type": "stream",
          "name": "stdout",
          "text": [
            "9\n"
          ]
        }
      ]
    },
    {
      "cell_type": "code",
      "source": [
        "def measure_myWord(wordList):\n",
        "  counter=0\n",
        "  for word in wordList:\n",
        "    if word[0]==\"P\":\n",
        "      counter=counter+1\n",
        "  return counter\n",
        "List=[\"Python\",\"Poliana\",\"Orange\",]\n",
        "print(measure_myWord(List))"
      ],
      "metadata": {
        "colab": {
          "base_uri": "https://localhost:8080/"
        },
        "id": "zzRpu4VyQaZJ",
        "outputId": "5d349a1a-7689-4961-c9f9-b995d395a849"
      },
      "execution_count": null,
      "outputs": [
        {
          "output_type": "stream",
          "name": "stdout",
          "text": [
            "2\n"
          ]
        }
      ]
    },
    {
      "cell_type": "code",
      "source": [
        "def find_element(haystack,needle):\n",
        "  for element in haystack:\n",
        "    if element==needle:\n",
        "      return haystack.index(needle)\n",
        "  return -1\n",
        "\n",
        "List1=[1,2,3]\n",
        "List2=[\"Blue\",\"Yellow\"]\n",
        "\n",
        "print(find_element(List1,3))\n",
        "print(find_element(List2,\"Purple\"))"
      ],
      "metadata": {
        "colab": {
          "base_uri": "https://localhost:8080/"
        },
        "id": "YwChxocNQ2cF",
        "outputId": "5e435e68-d75a-46dc-c6b1-b5379d27c7ce"
      },
      "execution_count": null,
      "outputs": [
        {
          "output_type": "stream",
          "name": "stdout",
          "text": [
            "2\n",
            "-1\n"
          ]
        }
      ]
    },
    {
      "cell_type": "markdown",
      "source": [
        "this like a loop like find function, it turns index of needle and return -1 like find function."
      ],
      "metadata": {
        "id": "y7o5HWc2UG77"
      }
    },
    {
      "cell_type": "code",
      "source": [
        "def find_element(haystack,needle):\n",
        "  if needle in haystack:\n",
        "    return haystack.index(needle)\n",
        "  else:\n",
        "    return -1\n",
        "\n",
        "List1=[1,2,3]\n",
        "List2=[\"Blue\",\"Yellow\"]\n",
        "\n",
        "print(find_element(List1,3))\n",
        "print(find_element(List2,\"Purple\"))"
      ],
      "metadata": {
        "colab": {
          "base_uri": "https://localhost:8080/"
        },
        "id": "SMQPUtHqTIFV",
        "outputId": "981dd142-a67f-4054-d057-9851f88d82d3"
      },
      "execution_count": null,
      "outputs": [
        {
          "output_type": "stream",
          "name": "stdout",
          "text": [
            "2\n",
            "-1\n"
          ]
        }
      ]
    },
    {
      "cell_type": "code",
      "source": [
        "my_list=[2,3,\"a\",[3,1]]\n",
        "element=my_list.pop()\n",
        "\n",
        "print(my_list)\n",
        "print(element)"
      ],
      "metadata": {
        "colab": {
          "base_uri": "https://localhost:8080/"
        },
        "id": "8_Q58w8oWR2-",
        "outputId": "d84e70fb-a2cd-46fa-d575-f4d56531af79"
      },
      "execution_count": null,
      "outputs": [
        {
          "output_type": "stream",
          "name": "stdout",
          "text": [
            "[2, 3, 'a']\n",
            "[3, 1]\n"
          ]
        }
      ]
    },
    {
      "cell_type": "markdown",
      "source": [
        "# BUILDING A WEB SEARCH ENGINE\n",
        "\n",
        "We’re going to start with a web page.\n",
        "\n",
        "• We have the URL of some seed page.\n",
        "\n",
        "• We use the get_page procedure to get a string which is\n",
        "the HTML source code of that page"
      ],
      "metadata": {
        "id": "9mamoKKhxIt8"
      }
    },
    {
      "cell_type": "code",
      "source": [
        "def get_next_target(page):\n",
        "  start_link = page.find('<a href=')\n",
        "  if start_link==-1:  #if there is no link, return 0 or false\n",
        "    return None,0\n",
        "  start_quote = page.find('\"', start_link)\n",
        "  end_quote = page.find('\"', start_quote+1)\n",
        "  url = page [start_quote+1 : end_quote]\n",
        "  return url, end_quote  #we return here end_quote because we will do a trick in main function, cut the page from that point"
      ],
      "metadata": {
        "id": "m05bH981ie2O"
      },
      "execution_count": null,
      "outputs": []
    },
    {
      "cell_type": "code",
      "source": [
        "print(get_next_target('this is a <a href=\"https://bogazici.edu.tr/\"link!<\\a>'))"
      ],
      "metadata": {
        "colab": {
          "base_uri": "https://localhost:8080/"
        },
        "id": "Swb3yvIKkKvj",
        "outputId": "b0d30f1d-6092-49c4-a7ed-a2158a1a562f"
      },
      "execution_count": null,
      "outputs": [
        {
          "output_type": "stream",
          "name": "stdout",
          "text": [
            "('https://bogazici.edu.tr/', 43)\n"
          ]
        }
      ]
    },
    {
      "cell_type": "code",
      "source": [
        "def print_all_links(page):\n",
        "  while True:\n",
        "    url, endpos = get_next_target(page)\n",
        "    if url:\n",
        "      print(url)\n",
        "      page = page[endpos:]\n",
        "    else:\n",
        "      break\n",
        "page = 'this <a href=\"test1\">link 1</a> is <a href=\"test2\">link 2</a> a <a href=\"test3\">link3'\n",
        "print_all_links(page)\n",
        "# print_all_links(get_page('http://xkcd.com/353')) we will define get_page later"
      ],
      "metadata": {
        "colab": {
          "base_uri": "https://localhost:8080/"
        },
        "id": "CbnL7cnfruBk",
        "outputId": "5a5c238e-fe40-4237-969f-b3f0736ea8cf"
      },
      "execution_count": null,
      "outputs": [
        {
          "output_type": "stream",
          "name": "stdout",
          "text": [
            "test1\n",
            "test2\n",
            "test3\n"
          ]
        }
      ]
    },
    {
      "cell_type": "markdown",
      "source": [
        "We are going to modify the **print_all_links** function. Currently, it doesn’t return any value; it only prints the links. We will create **get_all_links** which returns a list of extracted links."
      ],
      "metadata": {
        "id": "KL7x9gAyyfp3"
      }
    },
    {
      "cell_type": "code",
      "source": [
        "def get_all_links(page): #improved version of print_all_links\n",
        "  links=[]\n",
        "  while True:\n",
        "    url, endpos = get_next_target(page)\n",
        "    if url:\n",
        "      links.append(url)\n",
        "      page = page[endpos:]\n",
        "    else:\n",
        "      break\n",
        "  return links\n"
      ],
      "metadata": {
        "id": "IzmImiciy98c"
      },
      "execution_count": null,
      "outputs": []
    },
    {
      "cell_type": "markdown",
      "source": [
        "Now it is time to define a procedure, crawl_web, that takes as input a seed page URL, and outputs a list of all the URLs that can be reached by following links starting from seed page."
      ],
      "metadata": {
        "id": "_iiab6zZz1ql"
      }
    },
    {
      "cell_type": "markdown",
      "source": [
        "### UNION FUNCTION: We will define a function called union which takes 2 inputs lists. modify first input list as to be set of 2 list. we want to eliminate repetitions."
      ],
      "metadata": {
        "id": "krwKfG45UYZY"
      }
    },
    {
      "cell_type": "code",
      "source": [
        "def union(list1,list2):\n",
        "  for scoop in list2:\n",
        "    if scoop not in list1:\n",
        "      list1.append(scoop)\n",
        "  return list1\n",
        "\n",
        "List1=[1,2,3,4]\n",
        "List2=[1,4,5]\n",
        "\n",
        "print(union(List1,List2))"
      ],
      "metadata": {
        "colab": {
          "base_uri": "https://localhost:8080/"
        },
        "id": "cbK4RQOsTigO",
        "outputId": "0420aae9-517d-4523-deb1-0ecfeb2169d4"
      },
      "execution_count": null,
      "outputs": [
        {
          "output_type": "stream",
          "name": "stdout",
          "text": [
            "[1, 2, 3, 4, 5]\n"
          ]
        }
      ]
    },
    {
      "cell_type": "code",
      "source": [
        "def add_page_to_index ( index , keyword , url ):\n",
        "  for entry in index :\n",
        "    if entry [0] == keyword :\n",
        "      entry [1]. apppend ( url )\n",
        "      return\n",
        "  index.append ([keyword,[url]])\n"
      ],
      "metadata": {
        "id": "Qgi4tMBj4IdV"
      },
      "execution_count": null,
      "outputs": []
    },
    {
      "cell_type": "code",
      "source": [
        "def getPage(url):\n",
        "  try:\n",
        "    import urllib.request\n",
        "    page = urllib.request.urlopen(url).read()\n",
        "    return page.decode (\"utf−8\")\n",
        "  except:\n",
        "    return \"\""
      ],
      "metadata": {
        "id": "oBJpRVko8JIp"
      },
      "execution_count": null,
      "outputs": []
    },
    {
      "cell_type": "code",
      "source": [
        "def crawl_web(seed):\n",
        "  tocrawl = [seed]\n",
        "  crawled = []\n",
        "  index = []\n",
        "  while tocrawl:\n",
        "    pageurl = tocrawl.pop()\n",
        "    if pageurl not in crawled :\n",
        "      content = getPage(pageurl)\n",
        "      add_page_to_index(index,pageurl,content)\n",
        "      union (tocrawl, get_all_links(content))\n",
        "      crawled.append (pageurl)\n",
        "  return index"
      ],
      "metadata": {
        "id": "ASgfVtvAz_dR"
      },
      "execution_count": null,
      "outputs": []
    },
    {
      "cell_type": "markdown",
      "source": [
        "\n",
        "\n",
        "### lookup function"
      ],
      "metadata": {
        "id": "fWHi69E54I_C"
      }
    },
    {
      "cell_type": "code",
      "source": [
        "def lookup ( index , keyword ) :\n",
        "  for entry in index :\n",
        "    if entry [0] == keyword :\n",
        "      return entry [1]\n",
        "  return []"
      ],
      "metadata": {
        "id": "PB7kGXPz4iy5"
      },
      "execution_count": null,
      "outputs": []
    },
    {
      "cell_type": "code",
      "source": [
        "print(ord(\"A\"))\n",
        "print(ord(\"a\"))\n",
        "print(ord(\"ç\"))\n",
        "print(ord(\"ş\"))\n"
      ],
      "metadata": {
        "id": "L4PyI2Mp2Mb1",
        "colab": {
          "base_uri": "https://localhost:8080/"
        },
        "outputId": "c556a9e5-6066-43b1-d330-f7931a85726d"
      },
      "execution_count": null,
      "outputs": [
        {
          "output_type": "stream",
          "name": "stdout",
          "text": [
            "65\n",
            "97\n",
            "231\n",
            "351\n"
          ]
        }
      ]
    },
    {
      "cell_type": "code",
      "source": [
        "print(ord(\"ab\"))"
      ],
      "metadata": {
        "colab": {
          "base_uri": "https://localhost:8080/",
          "height": 141
        },
        "id": "QeSXBSrosNYx",
        "outputId": "6f88c624-7167-40dd-a9ce-47a34aa46956"
      },
      "execution_count": null,
      "outputs": [
        {
          "output_type": "error",
          "ename": "TypeError",
          "evalue": "ord() expected a character, but string of length 2 found",
          "traceback": [
            "\u001b[0;31m---------------------------------------------------------------------------\u001b[0m",
            "\u001b[0;31mTypeError\u001b[0m                                 Traceback (most recent call last)",
            "\u001b[0;32m<ipython-input-13-d8519d14d446>\u001b[0m in \u001b[0;36m<cell line: 1>\u001b[0;34m()\u001b[0m\n\u001b[0;32m----> 1\u001b[0;31m \u001b[0mprint\u001b[0m\u001b[0;34m(\u001b[0m\u001b[0mord\u001b[0m\u001b[0;34m(\u001b[0m\u001b[0;34m\"ab\"\u001b[0m\u001b[0;34m)\u001b[0m\u001b[0;34m)\u001b[0m\u001b[0;34m\u001b[0m\u001b[0;34m\u001b[0m\u001b[0m\n\u001b[0m",
            "\u001b[0;31mTypeError\u001b[0m: ord() expected a character, but string of length 2 found"
          ]
        }
      ]
    },
    {
      "cell_type": "code",
      "source": [
        "print(ord(chr(97)))"
      ],
      "metadata": {
        "colab": {
          "base_uri": "https://localhost:8080/"
        },
        "id": "KeHblq-KsJ75",
        "outputId": "92966081-c6b8-4857-acb1-b11f9c27b742"
      },
      "execution_count": null,
      "outputs": [
        {
          "output_type": "stream",
          "name": "stdout",
          "text": [
            "97\n"
          ]
        }
      ]
    },
    {
      "cell_type": "code",
      "source": [
        "print(chr(ord(97)))"
      ],
      "metadata": {
        "colab": {
          "base_uri": "https://localhost:8080/",
          "height": 141
        },
        "id": "9ph6EYUpsBZf",
        "outputId": "6e4162f6-20c0-4934-eab6-c21a96922304"
      },
      "execution_count": null,
      "outputs": [
        {
          "output_type": "error",
          "ename": "TypeError",
          "evalue": "ord() expected string of length 1, but int found",
          "traceback": [
            "\u001b[0;31m---------------------------------------------------------------------------\u001b[0m",
            "\u001b[0;31mTypeError\u001b[0m                                 Traceback (most recent call last)",
            "\u001b[0;32m<ipython-input-12-16c960c58d60>\u001b[0m in \u001b[0;36m<cell line: 1>\u001b[0;34m()\u001b[0m\n\u001b[0;32m----> 1\u001b[0;31m \u001b[0mprint\u001b[0m\u001b[0;34m(\u001b[0m\u001b[0mchr\u001b[0m\u001b[0;34m(\u001b[0m\u001b[0mord\u001b[0m\u001b[0;34m(\u001b[0m\u001b[0;36m97\u001b[0m\u001b[0;34m)\u001b[0m\u001b[0;34m)\u001b[0m\u001b[0;34m)\u001b[0m\u001b[0;34m\u001b[0m\u001b[0;34m\u001b[0m\u001b[0m\n\u001b[0m",
            "\u001b[0;31mTypeError\u001b[0m: ord() expected string of length 1, but int found"
          ]
        }
      ]
    },
    {
      "cell_type": "code",
      "source": [
        "def hash_function(string):\n",
        "  sum = 0\n",
        "  for char in string:\n",
        "    sum = sum + ord(char)\n",
        "  return sum\n",
        "\n",
        "print(hash_function(\"abd\"))\n",
        "\n"
      ],
      "metadata": {
        "colab": {
          "base_uri": "https://localhost:8080/"
        },
        "id": "h8occ1DZu6MJ",
        "outputId": "1502ce42-c423-4f96-a239-8378f9d07665"
      },
      "execution_count": null,
      "outputs": [
        {
          "output_type": "stream",
          "name": "stdout",
          "text": [
            "295\n"
          ]
        }
      ]
    },
    {
      "cell_type": "markdown",
      "source": [
        "# Days between days"
      ],
      "metadata": {
        "id": "cmMslM0R2LV9"
      }
    },
    {
      "cell_type": "code",
      "source": [
        "from datetime import datetime, timedelta\n",
        "\n",
        "# Define holidays as a list\n",
        "HOLIDAYS = [\n",
        "    (\"New Year's Day\", (1, 1, 1980)),\n",
        "    (\"Republic Day\", (7, 15, 2016)),\n",
        "    (\"Victory Day\", (8, 30, 1980)),\n",
        "    (\"Republic Day\", (10, 29, 1980)),\n",
        "    (\"Labor Day\", (5, 1, 1980)),\n",
        "]\n",
        "\n",
        "# Define table strategy as a list\n",
        "TABLE_STRATEGY = [\n",
        "    (0, [(0, 3), (4, 9)]),  # Monday\n",
        "    (1, [(1, 4), (4, 9)]),  # Tuesday\n",
        "    (2, [(2, 5), (4, 9)]),  # Wednesday\n",
        "    (3, [(1, 4), (3, 6), (4, 9)]),  # Thursday\n",
        "    (4, [(0, 3), (4, 9)]),  # Friday\n",
        "    (5, [(0, 0)]),  # Saturday\n",
        "    (6, [(0, 0)]),  # Sunday\n",
        "]\n",
        "\n",
        "def longest_vacation(days_off, year):\n",
        "    # Step 1: Create a list of holiday dates for the year\n",
        "    holiday_dates = []\n",
        "    for holiday in HOLIDAYS:\n",
        "        name, (month, day, start_year) = holiday\n",
        "        if year >= start_year:\n",
        "            holiday_date = datetime(year, month, day)\n",
        "            holiday_dates.append(holiday_date)\n",
        "\n",
        "    # Step 2: Calculate the best vacation plan based on the table strategy\n",
        "    best_vacation_start = None\n",
        "    max_vacation_days = 0\n",
        "\n",
        "    for holiday_date in holiday_dates:\n",
        "        day_of_week = holiday_date.weekday()  # Monday = 0, Sunday = 6\n",
        "        # Find the corresponding strategy for the day of the week\n",
        "        for strategy in TABLE_STRATEGY:\n",
        "            if strategy[0] == day_of_week:\n",
        "                possible_vacations = strategy[1]\n",
        "                break\n",
        "\n",
        "        for vacay_used, vacay_enjoyed in possible_vacations:\n",
        "            if vacay_used <= days_off and vacay_enjoyed > max_vacation_days:\n",
        "                max_vacation_days = vacay_enjoyed\n",
        "                best_vacation_start = holiday_date - timedelta(days=vacay_used)\n",
        "\n",
        "    # Return the best starting date and the maximum consecutive vacation days\n",
        "    return best_vacation_start.strftime(\"%Y-%m-%d\") if best_vacation_start else None, max_vacation_days\n",
        "\n",
        "\n",
        "# Example Usage\n",
        "days_off = 4  # User input: number of vacation days available\n",
        "year = 2024   # User input: year to calculate vacations for\n",
        "start_date, num_days = longest_vacation(days_off, year)\n",
        "print(f\"Best vacation starts on {start_date} and lasts for {num_days} days.\")\n"
      ],
      "metadata": {
        "colab": {
          "base_uri": "https://localhost:8080/"
        },
        "id": "v0uCIP6H2QlO",
        "outputId": "c452e863-1df4-4e77-c2be-64756a47d60b"
      },
      "execution_count": null,
      "outputs": [
        {
          "output_type": "stream",
          "name": "stdout",
          "text": [
            "Best vacation starts on 2023-12-28 and lasts for 9 days.\n"
          ]
        }
      ]
    },
    {
      "cell_type": "code",
      "source": [
        "longest_vacation(4,2022)"
      ],
      "metadata": {
        "colab": {
          "base_uri": "https://localhost:8080/"
        },
        "id": "Ncul2k4Q2SdU",
        "outputId": "9788e8c3-4b36-4779-e4e4-da983ba704b2"
      },
      "execution_count": null,
      "outputs": [
        {
          "output_type": "execute_result",
          "data": {
            "text/plain": [
              "('2022-07-11', 9)"
            ]
          },
          "metadata": {},
          "execution_count": 3
        }
      ]
    },
    {
      "cell_type": "code",
      "source": [
        "def hashString (keyword, buckets):\n",
        "  h=0\n",
        "  for c in keyword:\n",
        "    h=(h+ord(c) % buckets)\n",
        "  return h\n",
        "\n",
        "print(hashString(\"oktay\",3))"
      ],
      "metadata": {
        "id": "quzgW2jf2dpt",
        "colab": {
          "base_uri": "https://localhost:8080/"
        },
        "outputId": "e60c7d12-ce5a-4e49-bd58-61d6f0be91b3"
      },
      "execution_count": null,
      "outputs": [
        {
          "output_type": "stream",
          "name": "stdout",
          "text": [
            "6\n"
          ]
        }
      ]
    },
    {
      "cell_type": "code",
      "source": [
        "def make_hashtable(n_buckets):\n",
        "  hashIndex = []\n",
        "  # create list of numbers from 0 to n_buckets-1\n",
        "  for i in range(n_buckets):\n",
        "    hashIndex.append([])\n",
        "\n",
        "  return hashIndex\n",
        "\n",
        "print(make_hashtable(10))"
      ],
      "metadata": {
        "colab": {
          "base_uri": "https://localhost:8080/"
        },
        "id": "UogxIS73TRRf",
        "outputId": "83051c7e-49b3-4158-95f6-954e4f011180"
      },
      "execution_count": null,
      "outputs": [
        {
          "output_type": "stream",
          "name": "stdout",
          "text": [
            "[[], [], [], [], [], [], [], [], [], []]\n"
          ]
        }
      ]
    },
    {
      "cell_type": "code",
      "source": [
        "def make_hashtable(n_buckets):\n",
        "  return[[]]*n_buckets    #but this will create aliasing, when you add something into first element, it will add it everywhere\n",
        "\n",
        "table = make_hashtable(10)\n",
        "print(table)\n",
        "\n",
        "table[1].append(\"a\")\n",
        "print(table)"
      ],
      "metadata": {
        "colab": {
          "base_uri": "https://localhost:8080/"
        },
        "id": "bXtHO25OZ3QP",
        "outputId": "d263d613-4b67-48f1-b967-144a164e85a0"
      },
      "execution_count": null,
      "outputs": [
        {
          "output_type": "stream",
          "name": "stdout",
          "text": [
            "[[], [], [], [], [], [], [], [], [], []]\n",
            "[['a'], ['a'], ['a'], ['a'], ['a'], ['a'], ['a'], ['a'], ['a'], ['a']]\n"
          ]
        }
      ]
    },
    {
      "cell_type": "code",
      "source": [
        "def getBucket(htable, keyword):\n",
        "  # we need to determine which bucket to return\n",
        "  # we dont know how many buckets?\n",
        "  nbuckets=len(htable)\n",
        "  myBucketIndex = hashString(keyword, nbuckets)   #see defined function above\n",
        "  return htable[myBucketIndex]"
      ],
      "metadata": {
        "id": "8e_viSk1aa1u"
      },
      "execution_count": null,
      "outputs": []
    },
    {
      "cell_type": "code",
      "source": [
        "def htable_add(htable,key,value): #value is url\n",
        "  myBucket = getBucket(htable,key)\n",
        "  addtoIndex(myBucket,key, value)  #check this function\n",
        "\n",
        "  #no need to update hash table thanks to aliasing"
      ],
      "metadata": {
        "id": "ss_L6MA5ct5U"
      },
      "execution_count": null,
      "outputs": []
    },
    {
      "cell_type": "code",
      "source": [
        "courses= {\"spring2023\":{\"dsai301\":{\"name\":\"Introduction\",\"teacher\":\"Oktay\"}},\n",
        "          \"fall2023\":{\"dsai301\":{\"name\":\"Introduction\",\"teacher\":\"Oktay\"}}}\n",
        "\n",
        "def isoffered(courses, course, semester):\n",
        "  if semester in courses:\n",
        "    return course in courses[semester]\n",
        "  return False\n",
        "\n",
        "isoffered(courses,\"dsai301\",\"spring2023\")\n"
      ],
      "metadata": {
        "colab": {
          "base_uri": "https://localhost:8080/"
        },
        "id": "4rIt2LusjG9P",
        "outputId": "5fd31c99-3164-4081-c748-01307b6435d2"
      },
      "execution_count": null,
      "outputs": [
        {
          "output_type": "execute_result",
          "data": {
            "text/plain": [
              "True"
            ]
          },
          "metadata": {},
          "execution_count": 3
        }
      ]
    },
    {
      "cell_type": "code",
      "source": [
        "def whenoffered(courses, course):\n",
        "  mysemesters=[]\n",
        "  for semester in courses:\n",
        "    if isoffered(courses, course, semester):\n",
        "      mysemesters.append(semester)\n",
        "  return mysemesters\n",
        "\n",
        "whenoffered(courses,\"dsai301\")"
      ],
      "metadata": {
        "colab": {
          "base_uri": "https://localhost:8080/"
        },
        "id": "u-p7jcIhlBxc",
        "outputId": "e5fb55a4-7b47-4c44-9e7b-b0d5068b95e1"
      },
      "execution_count": null,
      "outputs": [
        {
          "output_type": "execute_result",
          "data": {
            "text/plain": [
              "['spring2023', 'fall2023']"
            ]
          },
          "metadata": {},
          "execution_count": 7
        }
      ]
    },
    {
      "cell_type": "code",
      "source": [
        "# factorial without loops\n",
        "def factorial(n):\n",
        "  if n==0:\n",
        "    return 1\n",
        "  else:\n",
        "    return n*factorial(n-1)\n",
        "\n",
        "factorial(5)\n",
        "# why this works? due to isolated environments\n",
        "# factorial(2) ==> E0 factorial only, E1 n=2, E2 n=1, E3 n=0, now now it turns back to 1\n",
        "# E2 turns back 1 to E1, E1 returns 2 to E0\n",
        "# this would not be possible without isolated environment\n",
        "# if recursive can solve a problem, it can be solved via loop too (iterative way)\n"
      ],
      "metadata": {
        "colab": {
          "base_uri": "https://localhost:8080/"
        },
        "id": "1nGbgDgbmg2i",
        "outputId": "6fc08eab-7438-48f0-f0b8-c0d1fd15f463"
      },
      "execution_count": null,
      "outputs": [
        {
          "output_type": "execute_result",
          "data": {
            "text/plain": [
              "120"
            ]
          },
          "metadata": {},
          "execution_count": 8
        }
      ]
    },
    {
      "cell_type": "code",
      "source": [
        "# Palindrome is a word phrase or sequesnce that reads backwards as forwards\n",
        "\n",
        "def isPalindrome(myword):\n",
        "  if myword ==\"\": #base case\n",
        "    return True\n",
        "  else:\n",
        "    return(isPalindrome(myword[1:-1]) and myword[0]==myword[-1])\n",
        "\n",
        "print(isPalindrome(\"level\"))\n",
        "print(isPalindrome(\"oktay\"))\n",
        "\n",
        "# here it will calculate, so in lecture notes more efficient version exist\n"
      ],
      "metadata": {
        "colab": {
          "base_uri": "https://localhost:8080/"
        },
        "id": "VkMMu82utaxE",
        "outputId": "0882511e-4fd7-4664-ebf8-a66bb1c331c5"
      },
      "execution_count": null,
      "outputs": [
        {
          "output_type": "stream",
          "name": "stdout",
          "text": [
            "True\n",
            "False\n"
          ]
        }
      ]
    },
    {
      "cell_type": "code",
      "source": [
        "def fibonacci(n):\n",
        "  if n==0:\n",
        "    return 0\n",
        "  if n==1:\n",
        "    return 1\n",
        "  return (fibonacci(n-1) + fibonacci(n-2))\n",
        "\n",
        "print(fibonacci(2))\n"
      ],
      "metadata": {
        "colab": {
          "base_uri": "https://localhost:8080/"
        },
        "id": "OYbRpuycw_uM",
        "outputId": "141b8de5-14db-4c2b-94b3-45860498a816"
      },
      "execution_count": null,
      "outputs": [
        {
          "output_type": "stream",
          "name": "stdout",
          "text": [
            "1\n"
          ]
        }
      ]
    },
    {
      "cell_type": "code",
      "source": [
        "def reversestring(s):\n",
        "\n",
        "# Base case: if string is empty or has one character, return it\n",
        "    if s==\"\" or len(s)== 1:\n",
        "        return s\n",
        "\n",
        "    # Recursive case: take first and last character, recursively reverse middle\n",
        "    return s[-1] + reversestring(s[1:-1]) + s[0]\n",
        "\n",
        "print(reversestring(\"hello\"))  # Will print: \"olleh\""
      ],
      "metadata": {
        "colab": {
          "base_uri": "https://localhost:8080/"
        },
        "id": "u_MD42dyzH-C",
        "outputId": "ea5b03d0-dda1-4494-c76d-89f0a216831d"
      },
      "execution_count": null,
      "outputs": [
        {
          "output_type": "stream",
          "name": "stdout",
          "text": [
            "olleh\n"
          ]
        }
      ]
    },
    {
      "cell_type": "code",
      "source": [
        "# crawlweb is going to procude both and index and a graph (dictionary)\n",
        "\n",
        "# rank (t, url) = d (damping factor) x sum of popularity (t-1, p) / outlinks (p)\n",
        "\n",
        "def crawlWeb(seed):\n",
        "  tocrawk = [seed]\n",
        "  crawled = []\n",
        "  index ={}\n",
        "  graph = {}\n",
        "  while tocrawl:\n",
        "    page = tocrawl.pop\n"
      ],
      "metadata": {
        "id": "qn9c4eIW1hl8"
      },
      "execution_count": null,
      "outputs": []
    },
    {
      "cell_type": "code",
      "source": [
        "d = 0.8\n",
        "page = \"C\"\n",
        "\n",
        "graph = {\"A\": [\"C\",\"B\"], \"B\": [\"C\"], \"C\": [\"A\"]}\n",
        "\n",
        "ranks = {\"A\": 1/3, \"B\": 1/3, \"C\": 1/3}\n",
        "\n",
        "values = {}\n",
        "\n",
        "temp = 0\n",
        "for element in graph:\n",
        "    if page in graph[element]:\n",
        "        temp = temp + ranks[element]/len(graph[element])\n",
        "\n",
        "print(temp)"
      ],
      "metadata": {
        "colab": {
          "base_uri": "https://localhost:8080/"
        },
        "id": "m1_xQC8Jux9I",
        "outputId": "69144531-68c1-412d-e387-76b0bd67684a"
      },
      "execution_count": null,
      "outputs": [
        {
          "output_type": "stream",
          "name": "stdout",
          "text": [
            "0.6666666666666666\n"
          ]
        }
      ]
    },
    {
      "cell_type": "code",
      "source": [
        "def computeRanks(graph):\n",
        "  d=0.8\n",
        "  N=len(graph)\n",
        "  numloops=10\n",
        "  ranks={}\n",
        "\n",
        "  for page in graph:\n",
        "    ranks[page] = 1/N\n",
        "\n",
        "  for i in range(0,numloops):\n",
        "    newranks={}\n",
        "    for page in graph:\n",
        "      newrank = (1-d)/N\n",
        "      for node in graph:\n",
        "        if page in graph[node]:\n",
        "          newrank = newrank +\n"
      ],
      "metadata": {
        "id": "ZqWM8-y6xp3v"
      },
      "execution_count": null,
      "outputs": []
    }
  ]
}