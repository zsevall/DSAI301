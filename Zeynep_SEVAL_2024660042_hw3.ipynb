{
  "nbformat": 4,
  "nbformat_minor": 0,
  "metadata": {
    "colab": {
      "provenance": [],
      "authorship_tag": "ABX9TyMEkA8s6pyRyZgMz1UFMpbv",
      "include_colab_link": true
    },
    "kernelspec": {
      "name": "python3",
      "display_name": "Python 3"
    },
    "language_info": {
      "name": "python"
    }
  },
  "cells": [
    {
      "cell_type": "markdown",
      "metadata": {
        "id": "view-in-github",
        "colab_type": "text"
      },
      "source": [
        "<a href=\"https://colab.research.google.com/github/zsevall/DSAI301/blob/main/Zeynep_SEVAL_2024660042_hw3.ipynb\" target=\"_parent\"><img src=\"https://colab.research.google.com/assets/colab-badge.svg\" alt=\"Open In Colab\"/></a>"
      ]
    },
    {
      "cell_type": "markdown",
      "source": [
        "#zeynep_seval_2024660042_hw2\n"
      ],
      "metadata": {
        "id": "4qyQeUpf5Nox"
      }
    },
    {
      "cell_type": "code",
      "execution_count": null,
      "metadata": {
        "colab": {
          "base_uri": "https://localhost:8080/"
        },
        "id": "ZvwZk-rnbNNV",
        "outputId": "536295a5-2ee5-426f-f640-8dcf9c0798dc"
      },
      "outputs": [
        {
          "output_type": "stream",
          "name": "stdout",
          "text": [
            "7\n",
            "7\n",
            "2\n",
            "No stop codon\n",
            "None\n",
            "test results\n",
            "No stop codon\n",
            "None\n",
            "2\n",
            "No stop codon\n",
            "None\n",
            "No stop codon\n",
            "None\n",
            "4\n",
            "No start codon\n",
            "None\n"
          ]
        }
      ],
      "source": [
        "#1\n",
        "\n",
        "def count_aa(chain):\n",
        "  start_codon = \"AUG\"\n",
        "  stop_codons = [\"UAG\", \"UAA\", \"UGA\"]\n",
        "\n",
        "  start_index = chain.find(start_codon)\n",
        "  if start_index == -1:\n",
        "    print(\"No start codon\")\n",
        "    return None\n",
        "  current_pos = start_index\n",
        "  aminoacid_count = 1\n",
        "\n",
        "  # Count characters till end of chain to understand total length\n",
        "  endofchain = 0\n",
        "  for c in chain:\n",
        "    endofchain = endofchain + 1\n",
        "\n",
        "  while current_pos + 3 <= endofchain:\n",
        "    codon = chain[current_pos] + chain[current_pos + 1] + chain[current_pos + 2]\n",
        "    if codon in stop_codons:\n",
        "      return aminoacid_count\n",
        "    elif endofchain - current_pos == 3:\n",
        "      print(\"No stop codon\")\n",
        "      return None\n",
        "    current_pos = current_pos + 3\n",
        "    aminoacid_count = aminoacid_count + 1\n",
        "\n",
        "  print(\"No stop codon\")\n",
        "  return None\n",
        "\n",
        "chain1 = \"UGGCUAUGUAUGGGUUUGGCUCCUAGAUAGACAUACGAAUGU\"\n",
        "chain2 = \"UGGCUAUGUAUGGGUUUGGCUCCUAGA\"\n",
        "chain3 = \"UGGCUAUGUAGGGGUUUGGCUCCUAGA\"\n",
        "chain4 = \"AUGUCCCUGA\"\n",
        "test1 = \"AUGCUAG\"\n",
        "test2 = \"AUGUAG\"\n",
        "test3 = \"AUG\"\n",
        "test4 = \"UAUGCCUGCUAGUAA\"\n",
        "test5 = \"UAUGCCCUGCUAGU\"\n",
        "test6 = \"UAA\"\n",
        "\n",
        "print(count_aa(chain1))\n",
        "print(count_aa(chain2))\n",
        "print(count_aa(chain3))\n",
        "print(count_aa(chain4))\n",
        "print (\"test results\")\n",
        "print(count_aa(test1))\n",
        "print(count_aa(test2))\n",
        "print(count_aa(test3))\n",
        "print(count_aa(test4))\n",
        "print(count_aa(test5))\n",
        "print(count_aa(test6))\n"
      ]
    },
    {
      "cell_type": "code",
      "source": [
        "# 2a\n",
        "# The password is not 3 digits or contains non-digit characters\n",
        "\n",
        "def password_check(password):\n",
        "  # Check whether entered values are digits (0-9)\n",
        "  for c in password:\n",
        "    if c < '0' or c > '9':  # If character is not between 0-9\n",
        "      print(\"Invalid password format\")\n",
        "      return\n",
        "\n",
        "  # Convert number to string to handle zeros at the begining\n",
        "  password_str = str(password)\n",
        "  # Count digits\n",
        "  digit_count = 0\n",
        "  for c in password_str:\n",
        "    digit_count= digit_count + 1\n",
        "  if digit_count != 3:\n",
        "    print(\"Invalid password format\")\n",
        "    return\n",
        "\n",
        "#test\n",
        "password_check(\"abd\")\n",
        "password_check(\"0.8\")\n",
        "password_check(\"01\")\n",
        "password_check(\"24\")"
      ],
      "metadata": {
        "colab": {
          "base_uri": "https://localhost:8080/"
        },
        "id": "h1su74NtjgrU",
        "outputId": "53b3ad77-e204-4d1c-c01c-1a5f03a4db7e"
      },
      "execution_count": null,
      "outputs": [
        {
          "output_type": "stream",
          "name": "stdout",
          "text": [
            "Invalid password format\n",
            "Invalid password format\n",
            "Invalid password format\n",
            "Invalid password format\n"
          ]
        }
      ]
    },
    {
      "cell_type": "code",
      "source": [
        "# 2b\n",
        "# The digits of the password are different, in ascending or descending order, and the number is odd\n",
        "# it should be categorized as medium strenght\n",
        "\n",
        "#from part a\n",
        "def password_check(password):\n",
        "  # Check whether entered values are digits (0-9)\n",
        "  for c in password:\n",
        "    if c < '0' or c > '9':  # If character is not between 0-9\n",
        "      print(\"Invalid password format\")\n",
        "      return\n",
        "  # Convert number to string to handle zeros at the begining\n",
        "  password_str = str(password)\n",
        "  # Count digits\n",
        "  digit_count = 0\n",
        "  for c in password_str:\n",
        "    digit_count= digit_count + 1\n",
        "  if digit_count != 3:\n",
        "    print(\"Invalid password format\")\n",
        "    return\n",
        "\n",
        "#PART D\n",
        "  # Get digits\n",
        "  first = int(password_str[0])\n",
        "  second = int(password_str[1])\n",
        "  third = int(password_str[2])\n",
        "\n",
        "  is_ascending = (first < second and second < third)\n",
        "  is_descending = (first > second and second > third)\n",
        "  is_ordered = is_ascending or is_descending\n",
        "  is_odd = (int(password_str) % 2 == 1)\n",
        "\n",
        "  # Final check for medium strength\n",
        "  if is_ordered and is_odd:\n",
        "    print(\"medium-strength password\")\n",
        "\n",
        "#test\n",
        "password_check(\"123\")"
      ],
      "metadata": {
        "colab": {
          "base_uri": "https://localhost:8080/"
        },
        "id": "RYU0mwTKLxyg",
        "outputId": "c78a9d84-156f-4211-beda-e7172bab7d6b"
      },
      "execution_count": null,
      "outputs": [
        {
          "output_type": "stream",
          "name": "stdout",
          "text": [
            "medium-strength password\n"
          ]
        }
      ]
    },
    {
      "cell_type": "code",
      "source": [
        "# 2c\n",
        "# The digits of the password are different, in ascending or descending order, and the number is even\n",
        "# it should be categorized as weak strenght\n",
        "\n",
        "#from part a, b\n",
        "def password_check(password):\n",
        "  # Check whether entered values are digits (0-9)\n",
        "  for c in password:\n",
        "    if c < '0' or c > '9':  # If character is not between 0-9\n",
        "      print(\"Invalid password format\")\n",
        "      return\n",
        "  # Convert number to string to handle zeros at the begining\n",
        "  password_str = str(password)\n",
        "  # Count digits\n",
        "  digit_count = 0\n",
        "  for c in password_str:\n",
        "    digit_count= digit_count + 1\n",
        "  if digit_count != 3:\n",
        "    print(\"Invalid password format\")\n",
        "    return\n",
        "  # Get digits\n",
        "  first = int(password_str[0])\n",
        "  second = int(password_str[1])\n",
        "  third = int(password_str[2])\n",
        "\n",
        "  is_ascending = (first < second and second < third)\n",
        "  is_descending = (first > second and second > third)\n",
        "  is_ordered = is_ascending or is_descending\n",
        "  is_odd = (int(password_str) % 2 == 1)\n",
        "  is_even = (int(password_str) % 2 == 0)\n",
        "\n",
        "  # Final check for medium strength\n",
        "  if is_ordered and is_odd:\n",
        "    print(\"medium-strength password\")\n",
        "\n",
        "#PART C\n",
        "  elif is_ordered and is_even:\n",
        "    print(\"weak-strength password\")\n",
        "\n",
        "#test\n",
        "password_check(\"234\")"
      ],
      "metadata": {
        "colab": {
          "base_uri": "https://localhost:8080/"
        },
        "id": "y-Rbpc3ZPeVl",
        "outputId": "4b1567dd-888b-45b9-82f5-7cb58e4b1577"
      },
      "execution_count": null,
      "outputs": [
        {
          "output_type": "stream",
          "name": "stdout",
          "text": [
            "weak-strength password\n"
          ]
        }
      ]
    },
    {
      "cell_type": "code",
      "source": [
        "# 2d\n",
        "# Any two digits of the password are the same, and they are not adjacent it should be categorized as medium strenght\n",
        "# Any two digits of the password are the same, and they are adjacent it should be categorized as weak strenght\n",
        "\n",
        "#from part a,b,c\n",
        "\n",
        "def password_check(password):\n",
        "  # Check whether entered values are digits (0-9)\n",
        "  for c in password:\n",
        "    if c < '0' or c > '9':  # If character is not between 0-9\n",
        "      print(\"Invalid password format\")\n",
        "      return\n",
        "  # Convert number to string to handle zeros at the begining\n",
        "  password_str = str(password)\n",
        "  # Count digits\n",
        "  digit_count = 0\n",
        "  for c in password_str:\n",
        "    digit_count= digit_count + 1\n",
        "  if digit_count != 3:\n",
        "    print(\"Invalid password format\")\n",
        "    return\n",
        "  # Get digits\n",
        "  first = int(password_str[0])\n",
        "  second = int(password_str[1])\n",
        "  third = int(password_str[2])\n",
        "\n",
        "  is_ascending = (first < second and second < third)\n",
        "  is_descending = (first > second and second > third)\n",
        "  is_ordered = is_ascending or is_descending\n",
        "  is_odd = (int(password_str) % 2 == 1)\n",
        "  is_even = (int(password_str) % 2 == 0)\n",
        "\n",
        "  if is_ordered and is_odd:\n",
        "    print(\"medium-strength password\")\n",
        "  elif is_ordered and is_even:\n",
        "    print(\"weak-strength password\")\n",
        "\n",
        "# PART D\n",
        "  is_samedigit_adjacent = (first==second or second==third or first==second==third)\n",
        "  is_samedigit_notadjacent = (first==third)\n",
        "  is_allsamedigit = (first==second==third)\n",
        "\n",
        "  if is_samedigit_adjacent and not is_allsamedigit:\n",
        "    print(\"weak-strength password\")\n",
        "  elif is_samedigit_notadjacent and not is_allsamedigit:\n",
        "    print(\"medium-strength password\")\n",
        "\n",
        "# test\n",
        "password_check(\"224\")\n",
        "password_check(\"242\")"
      ],
      "metadata": {
        "colab": {
          "base_uri": "https://localhost:8080/"
        },
        "id": "d1H_pbj0R2qD",
        "outputId": "2ba14e3d-b959-42c6-ed35-e9ae90155942"
      },
      "execution_count": null,
      "outputs": [
        {
          "output_type": "stream",
          "name": "stdout",
          "text": [
            "weak-strength password\n",
            "medium-strength password\n"
          ]
        }
      ]
    },
    {
      "cell_type": "code",
      "source": [
        "# 2e\n",
        "# The digits of the password are different and not in ascending or descending order it should be categorized as strong strenght\n",
        "\n",
        "#from part a,b,c,d\n",
        "\n",
        "def password_check(password):\n",
        "  # Check whether entered values are digits (0-9)\n",
        "  for c in password:\n",
        "    if c < '0' or c > '9':  # If character is not between 0-9\n",
        "      print(\"Invalid password format\")\n",
        "      return\n",
        "  # Convert number to string to handle zeros at the begining\n",
        "  password_str = str(password)\n",
        "  # Count digits\n",
        "  digit_count = 0\n",
        "  for c in password_str:\n",
        "    digit_count= digit_count + 1\n",
        "  if digit_count != 3:\n",
        "    print(\"Invalid password format\")\n",
        "    return\n",
        "  # Get digits\n",
        "  first = int(password_str[0])\n",
        "  second = int(password_str[1])\n",
        "  third = int(password_str[2])\n",
        "\n",
        "  is_ascending = (first < second and second < third)\n",
        "  is_descending = (first > second and second > third)\n",
        "  is_ordered = is_ascending or is_descending\n",
        "  is_odd = (int(password_str) % 2 == 1)\n",
        "  is_even = (int(password_str) % 2 == 0)\n",
        "  is_samedigit_adjacent = (first==second or second==third)\n",
        "  is_samedigit_notadjacent = (first==third)\n",
        "  is_allsamedigit = (first==second==third)\n",
        "\n",
        "  if is_ordered and is_odd:\n",
        "    print(\"medium-strength password\")\n",
        "  elif is_ordered and is_even:\n",
        "    print(\"weak-strength password\")\n",
        "  elif is_samedigit_adjacent and not is_allsamedigit:\n",
        "    print(\"weak-strength password\")\n",
        "  elif is_samedigit_notadjacent and not is_allsamedigit:\n",
        "    print(\"medium-strength password\")\n",
        "\n",
        "# PART E\n",
        "  elif not is_ordered and not is_allsamedigit:\n",
        "    print(\"strong-strength password\")\n",
        "\n",
        "#test\n",
        "password_check(\"384\")"
      ],
      "metadata": {
        "colab": {
          "base_uri": "https://localhost:8080/"
        },
        "id": "iOG64NBeUpSs",
        "outputId": "504e5e3b-5248-42aa-e449-146385c5e4fb"
      },
      "execution_count": null,
      "outputs": [
        {
          "output_type": "stream",
          "name": "stdout",
          "text": [
            "strong-strength password\n"
          ]
        }
      ]
    },
    {
      "cell_type": "code",
      "source": [
        "# 2e\n",
        "# The digits of the password are different and not in ascending or descending order it should be categorized as strong strenght\n",
        "\n",
        "#from part a,b,c,d\n",
        "\n",
        "def password_check(password):\n",
        "  # Check whether entered values are digits (0-9)\n",
        "  for c in password:\n",
        "    if c < '0' or c > '9':  # If character is not between 0-9\n",
        "      print(\"Invalid password format\")\n",
        "      return\n",
        "  # Convert number to string to handle zeros at the begining\n",
        "  password_str = str(password)\n",
        "  # Count digits\n",
        "  digit_count = 0\n",
        "  for c in password_str:\n",
        "    digit_count= digit_count + 1\n",
        "  if digit_count != 3:\n",
        "    print(\"Invalid password format\")\n",
        "    return\n",
        "  # Get digits\n",
        "  first = int(password_str[0])\n",
        "  second = int(password_str[1])\n",
        "  third = int(password_str[2])\n",
        "\n",
        "  is_ascending = (first < second and second < third)\n",
        "  is_descending = (first > second and second > third)\n",
        "  is_ordered = is_ascending or is_descending\n",
        "  is_odd = (int(password_str) % 2 == 1)\n",
        "  is_even = (int(password_str) % 2 == 0)\n",
        "  is_samedigit_adjacent = (first==second or second==third)\n",
        "  is_samedigit_notadjacent = (first==third)\n",
        "  is_allsamedigit = (first==second==third)\n",
        "\n",
        "  if is_ordered and is_odd:\n",
        "    print(\"medium-strength password\")\n",
        "  elif is_ordered and is_even:\n",
        "    print(\"weak-strength password\")\n",
        "  elif is_samedigit_adjacent and not is_allsamedigit:\n",
        "    print(\"weak-strength password\")\n",
        "  elif is_samedigit_notadjacent and not is_allsamedigit:\n",
        "    print(\"medium-strength password\")\n",
        "  elif not is_ordered and not is_allsamedigit:\n",
        "    print(\"strong-strength password\")\n",
        "  else:\n",
        "    print(\"Invalid password format\")\n",
        "\n",
        "#test\n",
        "password_check(\"111\")\n",
        "\n",
        "#lets test it all again\n",
        "password_check(\"abd\")\n",
        "password_check(\"0.8\")\n",
        "password_check(\"01\")\n",
        "password_check(\"24\")\n",
        "password_check(\"123\")\n",
        "password_check(\"234\")\n",
        "password_check(\"224\")\n",
        "password_check(\"242\")\n",
        "password_check(\"384\")\n"
      ],
      "metadata": {
        "colab": {
          "base_uri": "https://localhost:8080/"
        },
        "id": "idZprh3kV_i3",
        "outputId": "ffc50471-cc41-470d-94b2-b3f9db963420"
      },
      "execution_count": null,
      "outputs": [
        {
          "output_type": "stream",
          "name": "stdout",
          "text": [
            "Invalid password format\n",
            "Invalid password format\n",
            "Invalid password format\n",
            "Invalid password format\n",
            "Invalid password format\n",
            "medium-strength password\n",
            "weak-strength password\n",
            "weak-strength password\n",
            "medium-strength password\n",
            "strong-strength password\n"
          ]
        }
      ]
    },
    {
      "cell_type": "code",
      "source": [],
      "metadata": {
        "id": "ZMvyFLmQXacZ"
      },
      "execution_count": null,
      "outputs": []
    }
  ]
}